{
  "nbformat": 4,
  "nbformat_minor": 0,
  "metadata": {
    "colab": {
      "provenance": []
    },
    "kernelspec": {
      "name": "python3",
      "display_name": "Python 3"
    },
    "language_info": {
      "name": "python"
    }
  },
  "cells": [
    {
      "cell_type": "code",
      "execution_count": null,
      "metadata": {
        "id": "lvB27Jo7idMa"
      },
      "outputs": [],
      "source": [
        "import pandas as pd\n",
        "import numpy as np\n",
        "import matplotlib.pyplot as plt\n",
        "import seaborn as sns\n",
        "import networkx as nx\n",
        "from sklearn.preprocessing import LabelEncoder\n",
        "from sklearn.model_selection import train_test_split"
      ]
    },
    {
      "cell_type": "code",
      "source": [
        "\n",
        "from google.colab import drive\n",
        "drive.mount('/content/drive')\n",
        "\n",
        "# Load data from Google Drive\n",
        "import pandas as pd\n",
        "file_path = '/content/drive/MyDrive/AML Project/HI-Small_Trans.csv'\n",
        "df = pd.read_csv(file_path)\n",
        "\n",
        "# Check data\n",
        "print(df.head())"
      ],
      "metadata": {
        "colab": {
          "base_uri": "https://localhost:8080/"
        },
        "id": "iqByZYH2i26U",
        "outputId": "2bd3826c-e0ca-4932-be98-3d3507e20fea"
      },
      "execution_count": null,
      "outputs": [
        {
          "output_type": "stream",
          "name": "stdout",
          "text": [
            "Mounted at /content/drive\n",
            "          Timestamp  From Bank    Account  To Bank  Account.1  \\\n",
            "0  2022/09/01 00:20         10  8000EBD30       10  8000EBD30   \n",
            "1  2022/09/01 00:20       3208  8000F4580        1  8000F5340   \n",
            "2  2022/09/01 00:00       3209  8000F4670     3209  8000F4670   \n",
            "3  2022/09/01 00:02         12  8000F5030       12  8000F5030   \n",
            "4  2022/09/01 00:06         10  8000F5200       10  8000F5200   \n",
            "\n",
            "   Amount Received Receiving Currency  Amount Paid Payment Currency  \\\n",
            "0          3697.34          US Dollar      3697.34        US Dollar   \n",
            "1             0.01          US Dollar         0.01        US Dollar   \n",
            "2         14675.57          US Dollar     14675.57        US Dollar   \n",
            "3          2806.97          US Dollar      2806.97        US Dollar   \n",
            "4         36682.97          US Dollar     36682.97        US Dollar   \n",
            "\n",
            "  Payment Format  Is Laundering  \n",
            "0   Reinvestment              0  \n",
            "1         Cheque              0  \n",
            "2   Reinvestment              0  \n",
            "3   Reinvestment              0  \n",
            "4   Reinvestment              0  \n"
          ]
        }
      ]
    },
    {
      "cell_type": "code",
      "source": [
        "# Dataset Dimensions\n",
        "print(\"Dataset Size:\", df.shape)\n",
        "\n",
        "# Column Information\n",
        "print(\"Column Information:\")\n",
        "print(df.info())"
      ],
      "metadata": {
        "colab": {
          "base_uri": "https://localhost:8080/"
        },
        "id": "0jFvxUlFi8aQ",
        "outputId": "32365cc1-928f-427d-fbcd-aa05a7def5be"
      },
      "execution_count": null,
      "outputs": [
        {
          "output_type": "stream",
          "name": "stdout",
          "text": [
            "Dataset Size: (5078345, 11)\n",
            "Column Information:\n",
            "<class 'pandas.core.frame.DataFrame'>\n",
            "RangeIndex: 5078345 entries, 0 to 5078344\n",
            "Data columns (total 11 columns):\n",
            " #   Column              Dtype  \n",
            "---  ------              -----  \n",
            " 0   Timestamp           object \n",
            " 1   From Bank           int64  \n",
            " 2   Account             object \n",
            " 3   To Bank             int64  \n",
            " 4   Account.1           object \n",
            " 5   Amount Received     float64\n",
            " 6   Receiving Currency  object \n",
            " 7   Amount Paid         float64\n",
            " 8   Payment Currency    object \n",
            " 9   Payment Format      object \n",
            " 10  Is Laundering       int64  \n",
            "dtypes: float64(2), int64(3), object(6)\n",
            "memory usage: 426.2+ MB\n",
            "None\n"
          ]
        }
      ]
    },
    {
      "cell_type": "code",
      "source": [
        "# Missing Values\n",
        "print(\"Missing Values:\")\n",
        "print(df.isnull().sum())\n",
        "\n",
        "# Duplicate Values\n",
        "print(\"Duplicate Rows:\", df.duplicated().sum())"
      ],
      "metadata": {
        "colab": {
          "base_uri": "https://localhost:8080/"
        },
        "id": "bbjBqqD9jbut",
        "outputId": "0bad9a9f-7897-4491-9600-3e97a6c7adae"
      },
      "execution_count": null,
      "outputs": [
        {
          "output_type": "stream",
          "name": "stdout",
          "text": [
            "Missing Values:\n",
            "Timestamp             0\n",
            "From Bank             0\n",
            "Account               0\n",
            "To Bank               0\n",
            "Account.1             0\n",
            "Amount Received       0\n",
            "Receiving Currency    0\n",
            "Amount Paid           0\n",
            "Payment Currency      0\n",
            "Payment Format        0\n",
            "Is Laundering         0\n",
            "dtype: int64\n",
            "Duplicate Rows: 9\n"
          ]
        }
      ]
    },
    {
      "cell_type": "code",
      "source": [
        "# Remove duplicate rows\n",
        "df = df.drop_duplicates()\n",
        "\n",
        "# Verify removal of duplicates\n",
        "print(\"Remaining Duplicates:\", df.duplicated().sum())"
      ],
      "metadata": {
        "colab": {
          "base_uri": "https://localhost:8080/"
        },
        "id": "nTEQLixtjejk",
        "outputId": "5a8aba81-f2da-4a9e-a4dc-28cca8dde02b"
      },
      "execution_count": null,
      "outputs": [
        {
          "output_type": "stream",
          "name": "stdout",
          "text": [
            "Remaining Duplicates: 0\n"
          ]
        }
      ]
    },
    {
      "cell_type": "code",
      "source": [
        "# Analyze target variable distribution\n",
        "print(df['Is Laundering'].value_counts())\n",
        "\n",
        "# Visualize the distribution\n",
        "import seaborn as sns\n",
        "import matplotlib.pyplot as plt\n",
        "\n",
        "plt.figure(figsize=(8, 6))\n",
        "sns.countplot(x='Is Laundering', data=df)\n",
        "plt.title('Target Variable Distribution (Is Laundering)')\n",
        "plt.xlabel('Is Laundering')\n",
        "plt.ylabel('Count')\n",
        "plt.show()"
      ],
      "metadata": {
        "colab": {
          "base_uri": "https://localhost:8080/",
          "height": 633
        },
        "id": "guzwL8Eqjga5",
        "outputId": "79a953f2-a727-47c2-d1e6-d5b6f1c5b331"
      },
      "execution_count": null,
      "outputs": [
        {
          "output_type": "stream",
          "name": "stdout",
          "text": [
            "Is Laundering\n",
            "0    5073159\n",
            "1       5177\n",
            "Name: count, dtype: int64\n"
          ]
        },
        {
          "output_type": "display_data",
          "data": {
            "text/plain": [
              "<Figure size 800x600 with 1 Axes>"
            ],
            "image/png": "[encoded data removed]"
          },
          "metadata": {}
        }
      ]
    },
    {
      "cell_type": "code",
      "source": [
        "# Convert Timestamp to datetime format\n",
        "df['Timestamp'] = pd.to_datetime(df['Timestamp'])\n",
        "\n",
        "# Extract time-based features\n",
        "df['Hour'] = df['Timestamp'].dt.hour\n",
        "df['Day'] = df['Timestamp'].dt.day\n",
        "df['Month'] = df['Timestamp'].dt.month\n",
        "df['Year'] = df['Timestamp'].dt.year\n",
        "df['Weekday'] = df['Timestamp'].dt.weekday  # 0: Monday, 6: Sunday\n",
        "\n",
        "# Normalize Timestamp\n",
        "df['Timestamp_Normalized'] = (df['Timestamp'] - df['Timestamp'].min()) / (df['Timestamp'].max() - df['Timestamp'].min())\n",
        "\n",
        "# Drop original timestamp if no longer needed\n",
        "df.drop('Timestamp', axis=1, inplace=True)\n",
        "\n",
        "# Display updated data\n",
        "print(df.head())"
      ],
      "metadata": {
        "colab": {
          "base_uri": "https://localhost:8080/"
        },
        "id": "LU86NCnhjlO0",
        "outputId": "14a4cc19-b838-4a6b-b40b-916d2bfb1fb0"
      },
      "execution_count": null,
      "outputs": [
        {
          "output_type": "stream",
          "name": "stdout",
          "text": [
            "   From Bank    Account  To Bank  Account.1  Amount Received  \\\n",
            "0         10  8000EBD30       10  8000EBD30          3697.34   \n",
            "1       3208  8000F4580        1  8000F5340             0.01   \n",
            "2       3209  8000F4670     3209  8000F4670         14675.57   \n",
            "3         12  8000F5030       12  8000F5030          2806.97   \n",
            "4         10  8000F5200       10  8000F5200         36682.97   \n",
            "\n",
            "  Receiving Currency  Amount Paid Payment Currency Payment Format  \\\n",
            "0          US Dollar      3697.34        US Dollar   Reinvestment   \n",
            "1          US Dollar         0.01        US Dollar         Cheque   \n",
            "2          US Dollar     14675.57        US Dollar   Reinvestment   \n",
            "3          US Dollar      2806.97        US Dollar   Reinvestment   \n",
            "4          US Dollar     36682.97        US Dollar   Reinvestment   \n",
            "\n",
            "   Is Laundering  Hour  Day  Month  Year  Weekday  Timestamp_Normalized  \n",
            "0              0     0    1      9  2022        3              0.000786  \n",
            "1              0     0    1      9  2022        3              0.000786  \n",
            "2              0     0    1      9  2022        3              0.000000  \n",
            "3              0     0    1      9  2022        3              0.000079  \n",
            "4              0     0    1      9  2022        3              0.000236  \n"
          ]
        }
      ]
    },
    {
      "cell_type": "code",
      "source": [
        "# Create unique account IDs\n",
        "df['From_Account'] = df['From Bank'].astype(str) + '_' + df['Account']\n",
        "df['To_Account'] = df['To Bank'].astype(str) + '_' + df['Account.1']\n",
        "\n",
        "# Transaction differences\n",
        "df['Transaction Difference'] = df['Amount Paid'] - df['Amount Received']\n",
        "\n",
        "# Transaction frequency per account\n",
        "transaction_count = df.groupby('From_Account')['From_Account'].transform('count')\n",
        "df['Transaction Count'] = transaction_count\n",
        "\n",
        "# Total transaction amounts sent and received\n",
        "df['Total Amount Sent'] = df.groupby('From_Account')['Amount Paid'].transform('sum')\n",
        "df['Total Amount Received'] = df.groupby('To_Account')['Amount Received'].transform('sum')\n",
        "\n",
        "# Anomaly detection based on transaction difference\n",
        "df['Is_Anomaly'] = 0  # Default 0\n",
        "df.loc[(df['Transaction Difference'] > 1000) | (df['Transaction Difference'] < -1000), 'Is_Anomaly'] = 1\n",
        "\n",
        "# Display updated dataset\n",
        "print(df.head())"
      ],
      "metadata": {
        "colab": {
          "base_uri": "https://localhost:8080/"
        },
        "id": "JIVmMBD7r9co",
        "outputId": "5b92c7bd-13c6-400b-b301-93a6bbfff869"
      },
      "execution_count": null,
      "outputs": [
        {
          "output_type": "stream",
          "name": "stdout",
          "text": [
            "   From Bank    Account  To Bank  Account.1  Amount Received  \\\n",
            "0         10  8000EBD30       10  8000EBD30          3697.34   \n",
            "1       3208  8000F4580        1  8000F5340             0.01   \n",
            "2       3209  8000F4670     3209  8000F4670         14675.57   \n",
            "3         12  8000F5030       12  8000F5030          2806.97   \n",
            "4         10  8000F5200       10  8000F5200         36682.97   \n",
            "\n",
            "  Receiving Currency  Amount Paid Payment Currency Payment Format  \\\n",
            "0          US Dollar      3697.34        US Dollar   Reinvestment   \n",
            "1          US Dollar         0.01        US Dollar         Cheque   \n",
            "2          US Dollar     14675.57        US Dollar   Reinvestment   \n",
            "3          US Dollar      2806.97        US Dollar   Reinvestment   \n",
            "4          US Dollar     36682.97        US Dollar   Reinvestment   \n",
            "\n",
            "   Is Laundering  ...  Year  Weekday  Timestamp_Normalized    From_Account  \\\n",
            "0              0  ...  2022        3              0.000786    10_8000EBD30   \n",
            "1              0  ...  2022        3              0.000786  3208_8000F4580   \n",
            "2              0  ...  2022        3              0.000000  3209_8000F4670   \n",
            "3              0  ...  2022        3              0.000079    12_8000F5030   \n",
            "4              0  ...  2022        3              0.000236    10_8000F5200   \n",
            "\n",
            "       To_Account  Transaction Difference Transaction Count Total Amount Sent  \\\n",
            "0    10_8000EBD30                     0.0                 2           3844.00   \n",
            "1     1_8000F5340                     0.0                 3           1440.67   \n",
            "2  3209_8000F4670                     0.0                 1          14675.57   \n",
            "3    12_8000F5030                     0.0                 4         728575.25   \n",
            "4    10_8000F5200                     0.0                31        1539131.70   \n",
            "\n",
            "   Total Amount Received  Is_Anomaly  \n",
            "0                4622.33           0  \n",
            "1                1799.88           0  \n",
            "2               14675.57           0  \n",
            "3              632438.93           0  \n",
            "4               37446.88           0  \n",
            "\n",
            "[5 rows x 23 columns]\n"
          ]
        }
      ]
    },
    {
      "cell_type": "code",
      "source": [
        "from sklearn.preprocessing import LabelEncoder\n",
        "\n",
        "# Encode currency columns\n",
        "encoder = LabelEncoder()\n",
        "df['Receiving Currency'] = encoder.fit_transform(df['Receiving Currency'])\n",
        "df['Payment Currency'] = encoder.fit_transform(df['Payment Currency'])\n",
        "\n",
        "# Currency Conversion Analysis\n",
        "df['Currency Difference'] = df['Payment Currency'] - df['Receiving Currency']\n",
        "\n",
        "# Check unique currencies\n",
        "print(\"Unique Currencies in Receiving:\", df['Receiving Currency'].unique())\n",
        "print(\"Unique Currencies in Payment:\", df['Payment Currency'].unique())\n",
        "\n",
        "# Display updated dataset\n",
        "print(df[['Receiving Currency', 'Payment Currency', 'Currency Difference']].head())"
      ],
      "metadata": {
        "colab": {
          "base_uri": "https://localhost:8080/"
        },
        "id": "0zoEfszXsRBF",
        "outputId": "8607df74-6265-43f6-97de-e97ddd83c686"
      },
      "execution_count": null,
      "outputs": [
        {
          "output_type": "stream",
          "name": "stdout",
          "text": [
            "Unique Currencies in Receiving: [12  1  4  0 14  7  5 13 11  6  3 10  2  8  9]\n",
            "Unique Currencies in Payment: [12  1  4  0 14  7 13  5 11  6  3 10  2  8  9]\n",
            "   Receiving Currency  Payment Currency  Currency Difference\n",
            "0                  12                12                    0\n",
            "1                  12                12                    0\n",
            "2                  12                12                    0\n",
            "3                  12                12                    0\n",
            "4                  12                12                    0\n"
          ]
        }
      ]
    },
    {
      "cell_type": "code",
      "source": [
        "import seaborn as sns\n",
        "import matplotlib.pyplot as plt\n",
        "\n",
        "# Anomalilerin para birimleri ile analizi\n",
        "plt.figure(figsize=(12, 6))\n",
        "sns.countplot(data=df, x='Receiving Currency', hue='Is_Anomaly')\n",
        "plt.title('Anomalies by Receiving Currency')\n",
        "plt.xlabel('Receiving Currency')\n",
        "plt.ylabel('Count')\n",
        "plt.xticks(rotation=45)\n",
        "plt.show()"
      ],
      "metadata": {
        "colab": {
          "base_uri": "https://localhost:8080/",
          "height": 573
        },
        "id": "h6TzkRvCtc9s",
        "outputId": "4913a3cf-793d-462f-d681-2ea06964cf5d"
      },
      "execution_count": null,
      "outputs": [
        {
          "output_type": "display_data",
          "data": {
            "text/plain": [
              "<Figure size 1200x600 with 1 Axes>"
            ],
            "image/png": "[encoded data removed]"
          },
          "metadata": {}
        }
      ]
    },
    {
      "cell_type": "code",
      "source": [
        "# Check label encoding mapping\n",
        "currency_mapping = dict(enumerate(encoder.classes_))\n",
        "print(currency_mapping)"
      ],
      "metadata": {
        "colab": {
          "base_uri": "https://localhost:8080/"
        },
        "id": "qhsHXB1utq7K",
        "outputId": "142faf0a-db4a-4dad-c3d2-0297a8435da7"
      },
      "execution_count": null,
      "outputs": [
        {
          "output_type": "stream",
          "name": "stdout",
          "text": [
            "{0: 'Australian Dollar', 1: 'Bitcoin', 2: 'Brazil Real', 3: 'Canadian Dollar', 4: 'Euro', 5: 'Mexican Peso', 6: 'Ruble', 7: 'Rupee', 8: 'Saudi Riyal', 9: 'Shekel', 10: 'Swiss Franc', 11: 'UK Pound', 12: 'US Dollar', 13: 'Yen', 14: 'Yuan'}\n"
          ]
        }
      ]
    },
    {
      "cell_type": "code",
      "source": [
        "# Exchange rates\n",
        "exchange_rates = {\n",
        "    'Australian Dollar': 0.65,\n",
        "    'Bitcoin': 90000.0,  # 1 BTC = 90,000 USD\n",
        "    'Brazil Real': 0.20,\n",
        "    'Canadian Dollar': 0.75,\n",
        "    'Euro': 1.10,\n",
        "    'Mexican Peso': 0.05,\n",
        "    'Ruble': 0.014,\n",
        "    'Rupee': 0.012,\n",
        "    'Saudi Riyal': 0.27,\n",
        "    'Shekel': 0.28,\n",
        "    'Swiss Franc': 1.05,\n",
        "    'UK Pound': 1.25,\n",
        "    'US Dollar': 1.0,\n",
        "    'Yen': 0.007,\n",
        "    'Yuan': 0.14\n",
        "}\n",
        "\n",
        "# Map exchange rates to rows\n",
        "df['Receiving Rate'] = df['Receiving Currency'].map(currency_mapping).map(exchange_rates)\n",
        "df['Payment Rate'] = df['Payment Currency'].map(currency_mapping).map(exchange_rates)\n",
        "\n",
        "# Convert amounts to USD\n",
        "df['Amount Received USD'] = df['Amount Received'] * df['Receiving Rate']\n",
        "df['Amount Paid USD'] = df['Amount Paid'] * df['Payment Rate']\n",
        "\n",
        "# Display updated dataset\n",
        "print(df[['Amount Received', 'Receiving Currency', 'Amount Received USD',\n",
        "          'Amount Paid', 'Payment Currency', 'Amount Paid USD']].head())"
      ],
      "metadata": {
        "colab": {
          "base_uri": "https://localhost:8080/"
        },
        "id": "ifdlQdzLuYo5",
        "outputId": "3bd7a19a-826e-4848-aad2-501a47cb80a2"
      },
      "execution_count": null,
      "outputs": [
        {
          "output_type": "stream",
          "name": "stdout",
          "text": [
            "   Amount Received  Receiving Currency  Amount Received USD  Amount Paid  \\\n",
            "0          3697.34                  12              3697.34      3697.34   \n",
            "1             0.01                  12                 0.01         0.01   \n",
            "2         14675.57                  12             14675.57     14675.57   \n",
            "3          2806.97                  12              2806.97      2806.97   \n",
            "4         36682.97                  12             36682.97     36682.97   \n",
            "\n",
            "   Payment Currency  Amount Paid USD  \n",
            "0                12          3697.34  \n",
            "1                12             0.01  \n",
            "2                12         14675.57  \n",
            "3                12          2806.97  \n",
            "4                12         36682.97  \n"
          ]
        }
      ]
    },
    {
      "cell_type": "code",
      "source": [
        "# Check if payment and receiving currencies differ\n",
        "df['Currency Mismatch'] = (df['Receiving Currency'] != df['Payment Currency']).astype(int)\n",
        "\n",
        "# Display updated data\n",
        "print(df[['Receiving Currency', 'Payment Currency', 'Currency Mismatch']].head())"
      ],
      "metadata": {
        "colab": {
          "base_uri": "https://localhost:8080/"
        },
        "id": "8Wq3vV7ou00_",
        "outputId": "0c2c9bc1-660a-421e-ce32-0e3719129348"
      },
      "execution_count": null,
      "outputs": [
        {
          "output_type": "stream",
          "name": "stdout",
          "text": [
            "   Receiving Currency  Payment Currency  Currency Mismatch\n",
            "0                  12                12                  0\n",
            "1                  12                12                  0\n",
            "2                  12                12                  0\n",
            "3                  12                12                  0\n",
            "4                  12                12                  0\n"
          ]
        }
      ]
    },
    {
      "cell_type": "code",
      "source": [
        "# Count the number of mismatched currencies\n",
        "currency_mismatch_count = df['Currency Mismatch'].value_counts()\n",
        "\n",
        "# Display results\n",
        "print(\"Currency Mismatch Counts:\")\n",
        "print(currency_mismatch_count)\n",
        "\n",
        "# Check rows with mismatched currencies\n",
        "mismatch_rows = df[df['Currency Mismatch'] == 1]\n",
        "print(\"\\nExamples of Mismatched Currencies:\")\n",
        "print(mismatch_rows[['Receiving Currency', 'Payment Currency', 'Currency Mismatch']].head(10))"
      ],
      "metadata": {
        "colab": {
          "base_uri": "https://localhost:8080/"
        },
        "id": "TbJSb0NMvfM7",
        "outputId": "a0e4ee62-bdf6-4d2c-a9ac-2fa3b54135d6"
      },
      "execution_count": null,
      "outputs": [
        {
          "output_type": "stream",
          "name": "stdout",
          "text": [
            "Currency Mismatch Counts:\n",
            "Currency Mismatch\n",
            "0    5006170\n",
            "1      72166\n",
            "Name: count, dtype: int64\n",
            "\n",
            "Examples of Mismatched Currencies:\n",
            "       Receiving Currency  Payment Currency  Currency Mismatch\n",
            "1173                    4                12                  1\n",
            "7156                    4                12                  1\n",
            "7925                    0                12                  1\n",
            "8467                    4                12                  1\n",
            "11529                   4                12                  1\n",
            "12678                   4                12                  1\n",
            "12833                   4                12                  1\n",
            "13332                   4                12                  1\n",
            "18259                  12                 4                  1\n",
            "18261                  12                 4                  1\n"
          ]
        }
      ]
    },
    {
      "cell_type": "code",
      "source": [
        "# Display updated dataset\n",
        "print(df.head())"
      ],
      "metadata": {
        "colab": {
          "base_uri": "https://localhost:8080/"
        },
        "id": "z3v2-YIxvohb",
        "outputId": "829e8850-3882-4b64-b368-59a2698b60e3"
      },
      "execution_count": null,
      "outputs": [
        {
          "output_type": "stream",
          "name": "stdout",
          "text": [
            "   From Bank    Account  To Bank  Account.1  Amount Received  \\\n",
            "0         10  8000EBD30       10  8000EBD30          3697.34   \n",
            "1       3208  8000F4580        1  8000F5340             0.01   \n",
            "2       3209  8000F4670     3209  8000F4670         14675.57   \n",
            "3         12  8000F5030       12  8000F5030          2806.97   \n",
            "4         10  8000F5200       10  8000F5200         36682.97   \n",
            "\n",
            "   Receiving Currency  Amount Paid  Payment Currency Payment Format  \\\n",
            "0                  12      3697.34                12   Reinvestment   \n",
            "1                  12         0.01                12         Cheque   \n",
            "2                  12     14675.57                12   Reinvestment   \n",
            "3                  12      2806.97                12   Reinvestment   \n",
            "4                  12     36682.97                12   Reinvestment   \n",
            "\n",
            "   Is Laundering  ...  Transaction Count  Total Amount Sent  \\\n",
            "0              0  ...                  2            3844.00   \n",
            "1              0  ...                  3            1440.67   \n",
            "2              0  ...                  1           14675.57   \n",
            "3              0  ...                  4          728575.25   \n",
            "4              0  ...                 31         1539131.70   \n",
            "\n",
            "   Total Amount Received  Is_Anomaly  Currency Difference  Receiving Rate  \\\n",
            "0                4622.33           0                    0             1.0   \n",
            "1                1799.88           0                    0             1.0   \n",
            "2               14675.57           0                    0             1.0   \n",
            "3              632438.93           0                    0             1.0   \n",
            "4               37446.88           0                    0             1.0   \n",
            "\n",
            "  Payment Rate Amount Received USD  Amount Paid USD  Currency Mismatch  \n",
            "0          1.0             3697.34          3697.34                  0  \n",
            "1          1.0                0.01             0.01                  0  \n",
            "2          1.0            14675.57         14675.57                  0  \n",
            "3          1.0             2806.97          2806.97                  0  \n",
            "4          1.0            36682.97         36682.97                  0  \n",
            "\n",
            "[5 rows x 29 columns]\n"
          ]
        }
      ]
    },
    {
      "cell_type": "code",
      "source": [
        "# Create unique account IDs\n",
        "df['From_Account'] = df['From Bank'].astype(str) + '_' + df['Account']\n",
        "df['To_Account'] = df['To Bank'].astype(str) + '_' + df['Account.1']\n",
        "\n",
        "# Check the results\n",
        "print(df[['From_Account', 'To_Account']].head())"
      ],
      "metadata": {
        "colab": {
          "base_uri": "https://localhost:8080/"
        },
        "id": "Pm6fc8Drw6o_",
        "outputId": "8fb20005-9464-463c-c876-f0a1492e6d8e"
      },
      "execution_count": null,
      "outputs": [
        {
          "output_type": "stream",
          "name": "stdout",
          "text": [
            "     From_Account      To_Account\n",
            "0    10_8000EBD30    10_8000EBD30\n",
            "1  3208_8000F4580     1_8000F5340\n",
            "2  3209_8000F4670  3209_8000F4670\n",
            "3    12_8000F5030    12_8000F5030\n",
            "4    10_8000F5200    10_8000F5200\n"
          ]
        }
      ]
    },
    {
      "cell_type": "code",
      "source": [
        "# Drop the 'Currency Difference' column\n",
        "df.drop('Currency Difference', axis=1, inplace=True)\n",
        "\n",
        "# Check the updated columns\n",
        "print(df.columns)"
      ],
      "metadata": {
        "id": "Xrkg9gAdxtIO"
      },
      "execution_count": null,
      "outputs": []
    },
    {
      "cell_type": "code",
      "source": [
        "# Display updated dataset\n",
        "print(df.head())"
      ],
      "metadata": {
        "colab": {
          "base_uri": "https://localhost:8080/"
        },
        "id": "RFHjIIclxcZs",
        "outputId": "6a8e2375-2329-415a-d134-4130075ce36f"
      },
      "execution_count": null,
      "outputs": [
        {
          "output_type": "stream",
          "name": "stdout",
          "text": [
            "   From Bank    Account  To Bank  Account.1  Amount Received  \\\n",
            "0         10  8000EBD30       10  8000EBD30          3697.34   \n",
            "1       3208  8000F4580        1  8000F5340             0.01   \n",
            "2       3209  8000F4670     3209  8000F4670         14675.57   \n",
            "3         12  8000F5030       12  8000F5030          2806.97   \n",
            "4         10  8000F5200       10  8000F5200         36682.97   \n",
            "\n",
            "   Receiving Currency  Amount Paid  Payment Currency Payment Format  \\\n",
            "0                  12      3697.34                12   Reinvestment   \n",
            "1                  12         0.01                12         Cheque   \n",
            "2                  12     14675.57                12   Reinvestment   \n",
            "3                  12      2806.97                12   Reinvestment   \n",
            "4                  12     36682.97                12   Reinvestment   \n",
            "\n",
            "   Is Laundering  ...  Transaction Difference  Transaction Count  \\\n",
            "0              0  ...                     0.0                  2   \n",
            "1              0  ...                     0.0                  3   \n",
            "2              0  ...                     0.0                  1   \n",
            "3              0  ...                     0.0                  4   \n",
            "4              0  ...                     0.0                 31   \n",
            "\n",
            "   Total Amount Sent  Total Amount Received  Is_Anomaly  Receiving Rate  \\\n",
            "0            3844.00                4622.33           0             1.0   \n",
            "1            1440.67                1799.88           0             1.0   \n",
            "2           14675.57               14675.57           0             1.0   \n",
            "3          728575.25              632438.93           0             1.0   \n",
            "4         1539131.70               37446.88           0             1.0   \n",
            "\n",
            "  Payment Rate Amount Received USD  Amount Paid USD  Currency Mismatch  \n",
            "0          1.0             3697.34          3697.34                  0  \n",
            "1          1.0                0.01             0.01                  0  \n",
            "2          1.0            14675.57         14675.57                  0  \n",
            "3          1.0             2806.97          2806.97                  0  \n",
            "4          1.0            36682.97         36682.97                  0  \n",
            "\n",
            "[5 rows x 28 columns]\n"
          ]
        }
      ]
    },
    {
      "cell_type": "code",
      "source": [
        "# Check the updated columns\n",
        "print(df.columns)"
      ],
      "metadata": {
        "colab": {
          "base_uri": "https://localhost:8080/"
        },
        "id": "AqvBdpUcx8x_",
        "outputId": "31480e0b-790b-4988-bb89-2f74cd2282c5"
      },
      "execution_count": null,
      "outputs": [
        {
          "output_type": "stream",
          "name": "stdout",
          "text": [
            "Index(['From Bank', 'Account', 'To Bank', 'Account.1', 'Amount Received',\n",
            "       'Receiving Currency', 'Amount Paid', 'Payment Currency',\n",
            "       'Payment Format', 'Is Laundering', 'Hour', 'Day', 'Month', 'Year',\n",
            "       'Weekday', 'Timestamp_Normalized', 'From_Account', 'To_Account',\n",
            "       'Transaction Difference', 'Transaction Count', 'Total Amount Sent',\n",
            "       'Total Amount Received', 'Is_Anomaly', 'Receiving Rate', 'Payment Rate',\n",
            "       'Amount Received USD', 'Amount Paid USD', 'Currency Mismatch'],\n",
            "      dtype='object')\n"
          ]
        }
      ]
    },
    {
      "cell_type": "code",
      "source": [
        "df.drop(['Account', 'Account.1'], axis=1, inplace=True)"
      ],
      "metadata": {
        "id": "9IUOqUd0yJmk"
      },
      "execution_count": null,
      "outputs": []
    },
    {
      "cell_type": "code",
      "source": [
        "from sklearn.preprocessing import LabelEncoder\n",
        "encoder = LabelEncoder()\n",
        "df['Payment Format'] = encoder.fit_transform(df['Payment Format'])"
      ],
      "metadata": {
        "id": "UfDQ9B7oy0zp"
      },
      "execution_count": null,
      "outputs": []
    },
    {
      "cell_type": "code",
      "source": [
        "df['Recent Activity'] = df.groupby('From_Account')['Timestamp_Normalized'].diff().fillna(0)"
      ],
      "metadata": {
        "id": "6yq3eTZQy6FM"
      },
      "execution_count": null,
      "outputs": []
    },
    {
      "cell_type": "code",
      "source": [
        "df['Self_Loop'] = (df['From_Account'] == df['To_Account']).astype(int)"
      ],
      "metadata": {
        "id": "ov0oteomz9f6"
      },
      "execution_count": null,
      "outputs": []
    },
    {
      "cell_type": "code",
      "source": [
        "df['Is_Laundering'] = df['Is Laundering'].astype('int8')\n",
        "df['Is_Anomaly'] = df['Is_Anomaly'].astype('int8')\n",
        "df['Currency Mismatch'] = df['Currency Mismatch'].astype('int8')"
      ],
      "metadata": {
        "id": "lbKgiexm0BdK"
      },
      "execution_count": null,
      "outputs": []
    },
    {
      "cell_type": "code",
      "source": [
        "df.drop(['Receiving Rate', 'Payment Rate'], axis=1, inplace=True)"
      ],
      "metadata": {
        "id": "0A2_HUOA0EB1"
      },
      "execution_count": null,
      "outputs": []
    },
    {
      "cell_type": "code",
      "source": [
        "# Check the updated columns\n",
        "print(df.columns)"
      ],
      "metadata": {
        "colab": {
          "base_uri": "https://localhost:8080/"
        },
        "id": "F7vVMkO10Hul",
        "outputId": "ae4efb49-b3b8-48fe-b2bf-d7bff7e824c1"
      },
      "execution_count": null,
      "outputs": [
        {
          "output_type": "stream",
          "name": "stdout",
          "text": [
            "Index(['From Bank', 'To Bank', 'Amount Received', 'Receiving Currency',\n",
            "       'Amount Paid', 'Payment Currency', 'Payment Format', 'Is Laundering',\n",
            "       'Hour', 'Day', 'Month', 'Year', 'Weekday', 'Timestamp_Normalized',\n",
            "       'From_Account', 'To_Account', 'Transaction Difference',\n",
            "       'Transaction Count', 'Total Amount Sent', 'Total Amount Received',\n",
            "       'Is_Anomaly', 'Amount Received USD', 'Amount Paid USD',\n",
            "       'Currency Mismatch', 'Recent Activity', 'Self_Loop', 'Is_Laundering'],\n",
            "      dtype='object')\n"
          ]
        }
      ]
    },
    {
      "cell_type": "code",
      "source": [
        "# Display updated dataset\n",
        "print(df.head())"
      ],
      "metadata": {
        "colab": {
          "base_uri": "https://localhost:8080/"
        },
        "id": "1PbT-Tpv0Za8",
        "outputId": "ec7a45d4-76cc-4045-8775-024360a9573e"
      },
      "execution_count": null,
      "outputs": [
        {
          "output_type": "stream",
          "name": "stdout",
          "text": [
            "   From Bank  To Bank  Amount Received  Receiving Currency  Amount Paid  \\\n",
            "0         10       10          3697.34                  12      3697.34   \n",
            "1       3208        1             0.01                  12         0.01   \n",
            "2       3209     3209         14675.57                  12     14675.57   \n",
            "3         12       12          2806.97                  12      2806.97   \n",
            "4         10       10         36682.97                  12     36682.97   \n",
            "\n",
            "   Payment Currency  Payment Format  Is Laundering  Hour  Day  ...  \\\n",
            "0                12               5              0     0    1  ...   \n",
            "1                12               3              0     0    1  ...   \n",
            "2                12               5              0     0    1  ...   \n",
            "3                12               5              0     0    1  ...   \n",
            "4                12               5              0     0    1  ...   \n",
            "\n",
            "   Transaction Count  Total Amount Sent  Total Amount Received  Is_Anomaly  \\\n",
            "0                  2            3844.00                4622.33           0   \n",
            "1                  3            1440.67                1799.88           0   \n",
            "2                  1           14675.57               14675.57           0   \n",
            "3                  4          728575.25              632438.93           0   \n",
            "4                 31         1539131.70               37446.88           0   \n",
            "\n",
            "  Amount Received USD Amount Paid USD  Currency Mismatch  Recent Activity  \\\n",
            "0             3697.34         3697.34                  0              0.0   \n",
            "1                0.01            0.01                  0              0.0   \n",
            "2            14675.57        14675.57                  0              0.0   \n",
            "3             2806.97         2806.97                  0              0.0   \n",
            "4            36682.97        36682.97                  0              0.0   \n",
            "\n",
            "   Self_Loop  Is_Laundering  \n",
            "0          1              0  \n",
            "1          0              0  \n",
            "2          1              0  \n",
            "3          1              0  \n",
            "4          1              0  \n",
            "\n",
            "[5 rows x 27 columns]\n"
          ]
        }
      ]
    },
    {
      "cell_type": "code",
      "source": [
        "# Configure plotly and pandas\n",
        "pd.set_option('display.max_columns', None)\n",
        "pd.set_option('display.max_rows', 500)\n",
        "pd.set_option('display.expand_frame_repr', False)"
      ],
      "metadata": {
        "id": "vfNdLkrm0mAk"
      },
      "execution_count": null,
      "outputs": []
    },
    {
      "cell_type": "code",
      "source": [
        "# Display updated dataset\n",
        "print(df.head())"
      ],
      "metadata": {
        "colab": {
          "base_uri": "https://localhost:8080/"
        },
        "id": "VgPI6h1b3TUW",
        "outputId": "b6157644-ef35-45d1-9f26-556b6349a10e"
      },
      "execution_count": null,
      "outputs": [
        {
          "output_type": "stream",
          "name": "stdout",
          "text": [
            "   From Bank  To Bank  Amount Received  Receiving Currency  Amount Paid  Payment Currency  Payment Format  Is Laundering  Hour  Day  Month  Year  Weekday  Timestamp_Normalized    From_Account      To_Account  Transaction Difference  Transaction Count  Total Amount Sent  Total Amount Received  Is_Anomaly  Amount Received USD  Amount Paid USD  Currency Mismatch  Recent Activity  Self_Loop  Is_Laundering\n",
            "0         10       10          3697.34                  12      3697.34                12               5              0     0    1      9  2022        3              0.000786    10_8000EBD30    10_8000EBD30                     0.0                  2            3844.00                4622.33           0              3697.34          3697.34                  0              0.0          1              0\n",
            "1       3208        1             0.01                  12         0.01                12               3              0     0    1      9  2022        3              0.000786  3208_8000F4580     1_8000F5340                     0.0                  3            1440.67                1799.88           0                 0.01             0.01                  0              0.0          0              0\n",
            "2       3209     3209         14675.57                  12     14675.57                12               5              0     0    1      9  2022        3              0.000000  3209_8000F4670  3209_8000F4670                     0.0                  1           14675.57               14675.57           0             14675.57         14675.57                  0              0.0          1              0\n",
            "3         12       12          2806.97                  12      2806.97                12               5              0     0    1      9  2022        3              0.000079    12_8000F5030    12_8000F5030                     0.0                  4          728575.25              632438.93           0              2806.97          2806.97                  0              0.0          1              0\n",
            "4         10       10         36682.97                  12     36682.97                12               5              0     0    1      9  2022        3              0.000236    10_8000F5200    10_8000F5200                     0.0                 31         1539131.70               37446.88           0             36682.97         36682.97                  0              0.0          1              0\n"
          ]
        }
      ]
    },
    {
      "cell_type": "code",
      "source": [
        "# Check if transactions are between different banks\n",
        "df['Inter_Bank'] = (df['From Bank'] != df['To Bank']).astype(int)\n",
        "\n",
        "# Verify the new column\n",
        "print(df[['From Bank', 'To Bank', 'Inter_Bank']].head(10))"
      ],
      "metadata": {
        "colab": {
          "base_uri": "https://localhost:8080/"
        },
        "id": "QQuCcILo3Uy0",
        "outputId": "7490bba0-3e2e-4a15-af69-5966c64794be"
      },
      "execution_count": null,
      "outputs": [
        {
          "output_type": "stream",
          "name": "stdout",
          "text": [
            "   From Bank  To Bank  Inter_Bank\n",
            "0         10       10           0\n",
            "1       3208        1           1\n",
            "2       3209     3209           0\n",
            "3         12       12           0\n",
            "4         10       10           0\n",
            "5          1        1           0\n",
            "6          1        1           0\n",
            "7          1        1           0\n",
            "8         12     2439           1\n",
            "9          1   211050           1\n"
          ]
        }
      ]
    },
    {
      "cell_type": "code",
      "source": [
        "# Print payment format mappings\n",
        "payment_mapping = dict(zip(encoder.classes_, encoder.transform(encoder.classes_)))\n",
        "print(\"Payment Format Mapping:\", payment_mapping)"
      ],
      "metadata": {
        "colab": {
          "base_uri": "https://localhost:8080/"
        },
        "id": "o45H6s123w1m",
        "outputId": "fbca86fc-b3c9-4074-8783-a64749f993ba"
      },
      "execution_count": null,
      "outputs": [
        {
          "output_type": "stream",
          "name": "stdout",
          "text": [
            "Payment Format Mapping: {'ACH': 0, 'Bitcoin': 1, 'Cash': 2, 'Cheque': 3, 'Credit Card': 4, 'Reinvestment': 5, 'Wire': 6}\n"
          ]
        }
      ]
    },
    {
      "cell_type": "code",
      "source": [
        "# Recalculate total amounts based on USD values\n",
        "df['Total Amount Sent USD'] = df.groupby('From_Account')['Amount Paid USD'].transform('sum')\n",
        "df['Total Amount Received USD'] = df.groupby('To_Account')['Amount Received USD'].transform('sum')\n",
        "\n",
        "# Drop old columns\n",
        "df.drop(['Total Amount Sent', 'Total Amount Received'], axis=1, inplace=True)\n",
        "\n",
        "# Display updated dataset\n",
        "print(df[['From_Account', 'To_Account', 'Total Amount Sent USD', 'Total Amount Received USD']].head(10))"
      ],
      "metadata": {
        "colab": {
          "base_uri": "https://localhost:8080/"
        },
        "id": "S7ZkIow_30dc",
        "outputId": "0cc19504-6e9d-4b03-a404-cb4108e713e2"
      },
      "execution_count": null,
      "outputs": [
        {
          "output_type": "stream",
          "name": "stdout",
          "text": [
            "     From_Account        To_Account  Total Amount Sent USD  Total Amount Received USD\n",
            "0    10_8000EBD30      10_8000EBD30           3.844000e+03               4.622330e+03\n",
            "1  3208_8000F4580       1_8000F5340           1.440670e+03               1.799880e+03\n",
            "2  3209_8000F4670    3209_8000F4670           1.467557e+04               1.467557e+04\n",
            "3    12_8000F5030      12_8000F5030           2.353331e+05               1.391968e+05\n",
            "4    10_8000F5200      10_8000F5200           1.539132e+06               3.744688e+04\n",
            "5     1_8000F5AD0       1_8000F5AD0           7.819020e+03               8.678400e+03\n",
            "6     1_8000EBAC0       1_8000EBAC0           1.787491e+07               1.720088e+07\n",
            "7     1_8000EC1E0       1_8000EC1E0           3.110195e+05               1.224170e+03\n",
            "8    12_8000EC280    2439_8017BF800           2.073557e+04               7.944953e+04\n",
            "9     1_8000EDEC0  211050_80AEF5310           3.593183e+06               1.698079e+05\n"
          ]
        }
      ]
    },
    {
      "cell_type": "code",
      "source": [
        "\n",
        "# Recalculate total amounts based on USD values\n",
        "df['Total Amount Sent USD'] = df.groupby('From_Account')['Amount Paid USD'].transform('sum')\n",
        "df['Total Amount Received USD'] = df.groupby('To_Account')['Amount Received USD'].transform('sum')\n",
        "\n",
        "# Remove faulty or outdated columns (for security)\n",
        "columns_to_drop = ['Total Amount Sent', 'Total Amount Received',]\n",
        "df.drop(columns=[col for col in columns_to_drop if col in df.columns], axis=1, inplace=True)\n",
        "\n",
        "# Update columns\n",
        "print(df[['From_Account', 'To_Account', 'Total Amount Sent USD', 'Total Amount Received USD']].head(10))"
      ],
      "metadata": {
        "colab": {
          "base_uri": "https://localhost:8080/"
        },
        "id": "UE6hMD5_37QC",
        "outputId": "47668c96-75b0-4437-e53d-b7d9cb114b1f"
      },
      "execution_count": null,
      "outputs": [
        {
          "output_type": "stream",
          "name": "stdout",
          "text": [
            "     From_Account        To_Account  Total Amount Sent USD  Total Amount Received USD\n",
            "0    10_8000EBD30      10_8000EBD30           3.844000e+03               4.622330e+03\n",
            "1  3208_8000F4580       1_8000F5340           1.440670e+03               1.799880e+03\n",
            "2  3209_8000F4670    3209_8000F4670           1.467557e+04               1.467557e+04\n",
            "3    12_8000F5030      12_8000F5030           2.353331e+05               1.391968e+05\n",
            "4    10_8000F5200      10_8000F5200           1.539132e+06               3.744688e+04\n",
            "5     1_8000F5AD0       1_8000F5AD0           7.819020e+03               8.678400e+03\n",
            "6     1_8000EBAC0       1_8000EBAC0           1.787491e+07               1.720088e+07\n",
            "7     1_8000EC1E0       1_8000EC1E0           3.110195e+05               1.224170e+03\n",
            "8    12_8000EC280    2439_8017BF800           2.073557e+04               7.944953e+04\n",
            "9     1_8000EDEC0  211050_80AEF5310           3.593183e+06               1.698079e+05\n"
          ]
        }
      ]
    },
    {
      "cell_type": "code",
      "source": [
        "columns_to_drop = [\n",
        "    'Total Amount Sent',\n",
        "    'Total Amount Received',\n",
        "    'Total Amount Sent USD',\n",
        "    'Total Amount Received USD'\n",
        "]\n",
        "\n",
        "# drop\n",
        "df.drop(columns=[col for col in columns_to_drop if col in df.columns], axis=1, inplace=True)\n",
        "\n",
        "# control\n",
        "print(df.columns)"
      ],
      "metadata": {
        "colab": {
          "base_uri": "https://localhost:8080/"
        },
        "id": "AChkaWCS5YVM",
        "outputId": "8b21b817-fbdb-4985-c541-495f0b199df0"
      },
      "execution_count": null,
      "outputs": [
        {
          "output_type": "stream",
          "name": "stdout",
          "text": [
            "Index(['From Bank', 'To Bank', 'Amount Received', 'Receiving Currency',\n",
            "       'Amount Paid', 'Payment Currency', 'Payment Format', 'Is Laundering',\n",
            "       'Hour', 'Day', 'Month', 'Year', 'Weekday', 'Timestamp_Normalized',\n",
            "       'From_Account', 'To_Account', 'Transaction Difference',\n",
            "       'Transaction Count', 'Is_Anomaly', 'Amount Received USD',\n",
            "       'Amount Paid USD', 'Currency Mismatch', 'Recent Activity', 'Self_Loop',\n",
            "       'Is_Laundering', 'Inter_Bank'],\n",
            "      dtype='object')\n"
          ]
        }
      ]
    },
    {
      "cell_type": "code",
      "source": [
        "# recalculate\n",
        "df['Total Amount Sent USD'] = df.groupby('From_Account')['Amount Paid USD'].transform('sum')\n",
        "df['Total Amount Received USD'] = df.groupby('To_Account')['Amount Received USD'].transform('sum')\n",
        "\n",
        "# display\n",
        "print(df[['From_Account', 'To_Account', 'Total Amount Sent USD', 'Total Amount Received USD']].head(10))"
      ],
      "metadata": {
        "colab": {
          "base_uri": "https://localhost:8080/"
        },
        "id": "HPSa_I7750UJ",
        "outputId": "fbb4eaaf-eb31-41ed-dcfb-3812803af697"
      },
      "execution_count": null,
      "outputs": [
        {
          "output_type": "stream",
          "name": "stdout",
          "text": [
            "     From_Account        To_Account  Total Amount Sent USD  Total Amount Received USD\n",
            "0    10_8000EBD30      10_8000EBD30           3.844000e+03               4.622330e+03\n",
            "1  3208_8000F4580       1_8000F5340           1.440670e+03               1.799880e+03\n",
            "2  3209_8000F4670    3209_8000F4670           1.467557e+04               1.467557e+04\n",
            "3    12_8000F5030      12_8000F5030           2.353331e+05               1.391968e+05\n",
            "4    10_8000F5200      10_8000F5200           1.539132e+06               3.744688e+04\n",
            "5     1_8000F5AD0       1_8000F5AD0           7.819020e+03               8.678400e+03\n",
            "6     1_8000EBAC0       1_8000EBAC0           1.787491e+07               1.720088e+07\n",
            "7     1_8000EC1E0       1_8000EC1E0           3.110195e+05               1.224170e+03\n",
            "8    12_8000EC280    2439_8017BF800           2.073557e+04               7.944953e+04\n",
            "9     1_8000EDEC0  211050_80AEF5310           3.593183e+06               1.698079e+05\n"
          ]
        }
      ]
    },
    {
      "cell_type": "code",
      "source": [
        "print(df.columns)"
      ],
      "metadata": {
        "colab": {
          "base_uri": "https://localhost:8080/"
        },
        "id": "ASAaPhNJ6Ro_",
        "outputId": "6033e104-989e-4e15-d1af-b9f074d2a35c"
      },
      "execution_count": null,
      "outputs": [
        {
          "output_type": "stream",
          "name": "stdout",
          "text": [
            "Index(['From Bank', 'To Bank', 'Amount Received', 'Receiving Currency',\n",
            "       'Amount Paid', 'Payment Currency', 'Payment Format', 'Is Laundering',\n",
            "       'Hour', 'Day', 'Month', 'Year', 'Weekday', 'Timestamp_Normalized',\n",
            "       'From_Account', 'To_Account', 'Transaction Difference',\n",
            "       'Transaction Count', 'Is_Anomaly', 'Amount Received USD',\n",
            "       'Amount Paid USD', 'Currency Mismatch', 'Recent Activity', 'Self_Loop',\n",
            "       'Is_Laundering', 'Inter_Bank', 'Total Amount Sent USD',\n",
            "       'Total Amount Received USD'],\n",
            "      dtype='object')\n"
          ]
        }
      ]
    },
    {
      "cell_type": "code",
      "source": [
        "# Display updated dataset\n",
        "print(df.head())"
      ],
      "metadata": {
        "colab": {
          "base_uri": "https://localhost:8080/"
        },
        "id": "FYdCkrG36ad6",
        "outputId": "4287a5bf-271b-4b28-d7ed-53966c33d434"
      },
      "execution_count": null,
      "outputs": [
        {
          "output_type": "stream",
          "name": "stdout",
          "text": [
            "   From Bank  To Bank  Amount Received  Receiving Currency  Amount Paid  Payment Currency  Payment Format  Is Laundering  Hour  Day  Month  Year  Weekday  Timestamp_Normalized    From_Account      To_Account  Transaction Difference  Transaction Count  Is_Anomaly  Amount Received USD  Amount Paid USD  Currency Mismatch  Recent Activity  Self_Loop  Is_Laundering  Inter_Bank  Total Amount Sent USD  Total Amount Received USD\n",
            "0         10       10          3697.34                  12      3697.34                12               5              0     0    1      9  2022        3              0.000786    10_8000EBD30    10_8000EBD30                     0.0                  2           0              3697.34          3697.34                  0              0.0          1              0           0               3844.000                   4622.330\n",
            "1       3208        1             0.01                  12         0.01                12               3              0     0    1      9  2022        3              0.000786  3208_8000F4580     1_8000F5340                     0.0                  3           0                 0.01             0.01                  0              0.0          0              0           1               1440.670                   1799.880\n",
            "2       3209     3209         14675.57                  12     14675.57                12               5              0     0    1      9  2022        3              0.000000  3209_8000F4670  3209_8000F4670                     0.0                  1           0             14675.57         14675.57                  0              0.0          1              0           0              14675.570                  14675.570\n",
            "3         12       12          2806.97                  12      2806.97                12               5              0     0    1      9  2022        3              0.000079    12_8000F5030    12_8000F5030                     0.0                  4           0              2806.97          2806.97                  0              0.0          1              0           0             235333.074                 139196.754\n",
            "4         10       10         36682.97                  12     36682.97                12               5              0     0    1      9  2022        3              0.000236    10_8000F5200    10_8000F5200                     0.0                 31           0             36682.97         36682.97                  0              0.0          1              0           0            1539131.700                  37446.880\n"
          ]
        }
      ]
    },
    {
      "cell_type": "code",
      "source": [
        "import matplotlib.pyplot as plt\n",
        "import seaborn as sns\n",
        "\n",
        "# Recent Activity Histogram\n",
        "plt.figure(figsize=(10, 6))\n",
        "sns.histplot(df['Recent Activity'], bins=100, kde=True)\n",
        "plt.title('Distribution of Recent Activity')\n",
        "plt.xlabel('Time Difference (Normalized)')\n",
        "plt.ylabel('Frequency')\n",
        "plt.show()\n",
        "\n",
        "# Temel İstatistikleri Kontrol Et\n",
        "print(df['Recent Activity'].describe())"
      ],
      "metadata": {
        "colab": {
          "base_uri": "https://localhost:8080/",
          "height": 720
        },
        "id": "VbpFJVte66_P",
        "outputId": "bf4291a8-2418-4395-9e1d-13086f80a737"
      },
      "execution_count": null,
      "outputs": [
        {
          "output_type": "display_data",
          "data": {
            "text/plain": [
              "<Figure size 1000x600 with 1 Axes>"
            ],
            "image/png": "[encoded data removed]"
          },
          "metadata": {}
        },
        {
          "output_type": "stream",
          "name": "stdout",
          "text": [
            "count    5.078336e+06\n",
            "mean     2.232921e-02\n",
            "std      6.453158e-02\n",
            "min     -4.259958e-01\n",
            "25%      0.000000e+00\n",
            "50%      4.320842e-04\n",
            "75%      1.736193e-02\n",
            "max      7.819939e-01\n",
            "Name: Recent Activity, dtype: float64\n"
          ]
        }
      ]
    },
    {
      "cell_type": "code",
      "source": [
        "df['Recent Activity'] = df['Recent Activity'].clip(lower=0)"
      ],
      "metadata": {
        "id": "0pdRWGTB7f4O"
      },
      "execution_count": null,
      "outputs": []
    },
    {
      "cell_type": "code",
      "source": [
        "import numpy as np\n",
        "df['Recent Activity Log'] = np.log1p(df['Recent Activity'])"
      ],
      "metadata": {
        "id": "E7Uy1e1F8Ys0"
      },
      "execution_count": null,
      "outputs": []
    },
    {
      "cell_type": "code",
      "source": [
        "df['High_Frequency'] = (df['Recent Activity'] < 0.01).astype(int)"
      ],
      "metadata": {
        "id": "E0wnBJKe8bAs"
      },
      "execution_count": null,
      "outputs": []
    },
    {
      "cell_type": "code",
      "source": [
        "print(df['Recent Activity'].describe())\n",
        "print((df['Recent Activity'] < 0).sum())"
      ],
      "metadata": {
        "colab": {
          "base_uri": "https://localhost:8080/"
        },
        "id": "_uJr7JnG8efv",
        "outputId": "d8a35f28-40e3-4cd2-878e-a97621c3eaf3"
      },
      "execution_count": null,
      "outputs": [
        {
          "output_type": "stream",
          "name": "stdout",
          "text": [
            "count    5.078336e+06\n",
            "mean     2.244114e-02\n",
            "std      6.447466e-02\n",
            "min      0.000000e+00\n",
            "25%      0.000000e+00\n",
            "50%      4.320842e-04\n",
            "75%      1.736193e-02\n",
            "max      7.819939e-01\n",
            "Name: Recent Activity, dtype: float64\n",
            "0\n"
          ]
        }
      ]
    },
    {
      "cell_type": "code",
      "source": [
        "import seaborn as sns\n",
        "import matplotlib.pyplot as plt\n",
        "\n",
        "plt.figure(figsize=(10, 6))\n",
        "sns.histplot(df['Recent Activity Log'], bins=100, kde=True)\n",
        "plt.title('Distribution of Log Recent Activity')\n",
        "plt.xlabel('Log Time Difference')\n",
        "plt.ylabel('Frequency')\n",
        "plt.show()"
      ],
      "metadata": {
        "colab": {
          "base_uri": "https://localhost:8080/",
          "height": 564
        },
        "id": "GFxWfAua8_LM",
        "outputId": "9ce101c0-2596-442d-97ed-778912ba91cf"
      },
      "execution_count": null,
      "outputs": [
        {
          "output_type": "display_data",
          "data": {
            "text/plain": [
              "<Figure size 1000x600 with 1 Axes>"
            ],
            "image/png": "[encoded data removed]"
          },
          "metadata": {}
        }
      ]
    },
    {
      "cell_type": "code",
      "source": [
        "print(df['Recent Activity'].quantile([0.25, 0.5, 0.75, 0.9, 0.95, 0.99]))"
      ],
      "metadata": {
        "colab": {
          "base_uri": "https://localhost:8080/"
        },
        "id": "iUcWSQf29E9X",
        "outputId": "f1714a6e-ea03-4a28-9571-5edbce594a6f"
      },
      "execution_count": null,
      "outputs": [
        {
          "output_type": "stream",
          "name": "stdout",
          "text": [
            "0.25    0.000000\n",
            "0.50    0.000432\n",
            "0.75    0.017362\n",
            "0.90    0.056014\n",
            "0.95    0.083510\n",
            "0.99    0.400621\n",
            "Name: Recent Activity, dtype: float64\n"
          ]
        }
      ]
    },
    {
      "cell_type": "code",
      "source": [
        "df['High_Frequency'] = (df['Recent Activity'] < 0.017).astype(int)"
      ],
      "metadata": {
        "id": "dzCND5_M9SpC"
      },
      "execution_count": null,
      "outputs": []
    },
    {
      "cell_type": "code",
      "source": [
        "print(df['High_Frequency'].value_counts())"
      ],
      "metadata": {
        "colab": {
          "base_uri": "https://localhost:8080/"
        },
        "id": "TtfmpMq39pT0",
        "outputId": "c88b4714-f0da-4cb2-f8f8-c3f8e955309a"
      },
      "execution_count": null,
      "outputs": [
        {
          "output_type": "stream",
          "name": "stdout",
          "text": [
            "High_Frequency\n",
            "1    3797327\n",
            "0    1281009\n",
            "Name: count, dtype: int64\n"
          ]
        }
      ]
    },
    {
      "cell_type": "code",
      "source": [
        "import seaborn as sns\n",
        "sns.countplot(x='High_Frequency', data=df)\n",
        "plt.title('High Frequency Distribution')\n",
        "plt.show()"
      ],
      "metadata": {
        "colab": {
          "base_uri": "https://localhost:8080/",
          "height": 472
        },
        "id": "TKoBRfNA9q0h",
        "outputId": "632e269c-92c3-4e1a-ab7e-2b73b9377f4f"
      },
      "execution_count": null,
      "outputs": [
        {
          "output_type": "display_data",
          "data": {
            "text/plain": [
              "<Figure size 640x480 with 1 Axes>"
            ],
            "image/png": "[encoded data removed]"
          },
          "metadata": {}
        }
      ]
    },
    {
      "cell_type": "code",
      "source": [
        "df['High_Frequency_New3'] = (df['Recent Activity'] < 0.4).astype(int)"
      ],
      "metadata": {
        "id": "4Knj2pNcA5eo"
      },
      "execution_count": null,
      "outputs": []
    },
    {
      "cell_type": "code",
      "source": [
        "print(df['High_Frequency_New3'].value_counts())"
      ],
      "metadata": {
        "colab": {
          "base_uri": "https://localhost:8080/"
        },
        "id": "_AwqJOhWDCPo",
        "outputId": "fc940b31-fd4e-4012-b67d-07269dc41d14"
      },
      "execution_count": null,
      "outputs": [
        {
          "output_type": "stream",
          "name": "stdout",
          "text": [
            "High_Frequency_New3\n",
            "1    5026694\n",
            "0      51642\n",
            "Name: count, dtype: int64\n"
          ]
        }
      ]
    },
    {
      "cell_type": "code",
      "source": [],
      "metadata": {
        "id": "k1Pk0VlqDFMs"
      },
      "execution_count": null,
      "outputs": []
    }
  ]
}